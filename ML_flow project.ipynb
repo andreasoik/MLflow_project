{
 "cells": [
  {
   "cell_type": "code",
   "execution_count": 0,
   "metadata": {
    "application/vnd.databricks.v1+cell": {
     "cellMetadata": {
      "byteLimit": 2048000,
      "rowLimit": 10000
     },
     "inputWidgets": {},
     "nuid": "b9e63472-d098-492d-9f6f-f33e5e06a51b",
     "showTitle": false,
     "tableResultSettingsMap": {},
     "title": ""
    }
   },
   "outputs": [],
   "source": [
    "from pyspark.sql import SparkSession\n",
    "\n",
    "# Initialize Spark session (only needed in local setups, Databricks automatically handles this)\n",
    "spark = SparkSession.builder.appName(\"MLflow_Example\").getOrCreate()"
   ]
  },
  {
   "cell_type": "code",
   "execution_count": 0,
   "metadata": {
    "application/vnd.databricks.v1+cell": {
     "cellMetadata": {
      "byteLimit": 2048000,
      "rowLimit": 10000
     },
     "inputWidgets": {},
     "nuid": "a5775a2c-76a6-470e-a6d2-1b9ebd7a3a0f",
     "showTitle": false,
     "tableResultSettingsMap": {},
     "title": ""
    }
   },
   "outputs": [],
   "source": [
    "spark_df = spark.read.csv(\"dbfs:/FileStore/tables/Task.csv\", header=True, inferSchema=True)\n",
    "df = spark_df.toPandas()"
   ]
  },
  {
   "cell_type": "code",
   "execution_count": 0,
   "metadata": {
    "application/vnd.databricks.v1+cell": {
     "cellMetadata": {
      "byteLimit": 2048000,
      "rowLimit": 10000
     },
     "inputWidgets": {},
     "nuid": "399e2647-2947-4260-9915-85edfd34c2f4",
     "showTitle": false,
     "tableResultSettingsMap": {},
     "title": ""
    }
   },
   "outputs": [],
   "source": [
    "import pandas as pd\n",
    "import numpy as np\n",
    "import matplotlib.pyplot as plt\n",
    "from sklearn.model_selection import train_test_split,cross_val_score\n",
    "from sklearn.ensemble import RandomForestRegressor,ExtraTreesRegressor,AdaBoostRegressor\n",
    "import xgboost as xgb\n",
    "from sklearn.model_selection import GridSearchCV\n",
    "from sklearn.preprocessing import OneHotEncoder\n",
    "from sklearn.compose import ColumnTransformer\n",
    "from sklearn.inspection import permutation_importance\n",
    "from sklearn.metrics import mean_absolute_error, mean_squared_error,  mean_absolute_percentage_error\n",
    "import mlflow\n",
    "import mlflow.sklearn\n",
    "import mlflow.xgboost\n",
    "mlflow.autolog(disable=True)\n"
   ]
  },
  {
   "cell_type": "markdown",
   "metadata": {
    "application/vnd.databricks.v1+cell": {
     "cellMetadata": {
      "byteLimit": 2048000,
      "rowLimit": 10000
     },
     "inputWidgets": {},
     "nuid": "c86c2111-ef7e-4bd6-a7dd-57098a23a085",
     "showTitle": false,
     "tableResultSettingsMap": {},
     "title": ""
    }
   },
   "source": [
    "## Data Processing"
   ]
  },
  {
   "cell_type": "code",
   "execution_count": 0,
   "metadata": {
    "application/vnd.databricks.v1+cell": {
     "cellMetadata": {
      "byteLimit": 2048000,
      "rowLimit": 10000
     },
     "inputWidgets": {},
     "nuid": "642eab44-fba9-4dd4-8c61-077bbaf741e2",
     "showTitle": false,
     "tableResultSettingsMap": {},
     "title": ""
    }
   },
   "outputs": [],
   "source": [
    "columns_to_convert = df.columns[df.nunique() < 11]\n",
    "df[columns_to_convert] =df[columns_to_convert].astype('category')\n",
    "features_cat=['region']\n",
    "\n",
    "df_meta_data=df.dtypes.to_dict()\n",
    "df_meta_data={key: value for key, value in df_meta_data.items() if key not in features_cat}\n",
    "\n",
    "\n",
    "preprocessor = ColumnTransformer(\n",
    "    transformers=[\n",
    "        ('Flag', OneHotEncoder(), features_cat)\n",
    "    ],remainder='passthrough',verbose_feature_names_out=False)\n",
    "\n",
    "X_encoded = preprocessor.fit_transform(df)\n",
    "features_to_scale=[x for x in df_meta_data if df_meta_data[x] in ['int64','float64']]\n",
    "columns_after_encoding = preprocessor.get_feature_names_out(df.columns)\n",
    "\n",
    "df = pd.DataFrame(X_encoded, columns=columns_after_encoding)\n",
    "df=df.astype(df_meta_data)\n",
    "\n",
    "sex_map = {'male': 0, 'female': 1}\n",
    "smoker_map={'no': 0, 'yes': 1}\n",
    "\n",
    "df['sex'] = df['sex'].map(sex_map)\n",
    "df['smoker']=df['smoker'].map(smoker_map)\n"
   ]
  },
  {
   "cell_type": "code",
   "execution_count": 0,
   "metadata": {
    "application/vnd.databricks.v1+cell": {
     "cellMetadata": {
      "byteLimit": 2048000,
      "rowLimit": 10000
     },
     "inputWidgets": {},
     "nuid": "ee65491f-f0c0-4b80-86f7-10b57ba5cc0f",
     "showTitle": false,
     "tableResultSettingsMap": {},
     "title": ""
    }
   },
   "outputs": [],
   "source": [
    "X=df.iloc[:,:-1]\n",
    "y=df.iloc[:,-1]\n",
    "X_train, X_test, y_train, y_test = train_test_split(X, y, random_state=42, train_size = .70)"
   ]
  },
  {
   "cell_type": "code",
   "execution_count": 0,
   "metadata": {
    "application/vnd.databricks.v1+cell": {
     "cellMetadata": {
      "byteLimit": 2048000,
      "rowLimit": 10000
     },
     "inputWidgets": {},
     "nuid": "693e88e4-1f1b-4f94-82e6-601c905a85dc",
     "showTitle": false,
     "tableResultSettingsMap": {},
     "title": ""
    }
   },
   "outputs": [
    {
     "name": "stdout",
     "output_type": "stream",
     "text": [
      "RandomForestRegressor(criterion='absolute_error', max_depth=7, max_features=3,\n",
      "                      min_samples_leaf=9, min_samples_split=47, n_estimators=50,\n",
      "                      n_jobs=-1, random_state=42)\n",
      "{'criterion': 'absolute_error', 'max_depth': 7, 'min_samples_leaf': 9, 'min_samples_split': 47}\n"
     ]
    }
   ],
   "source": [
    "param_grid = {\n",
    "    'max_depth': np.arange(5,21,1).tolist(),\n",
    "    'min_samples_split': [round(X_train.shape[0]*0.1),round(X_train.shape[0]*0.05)],\n",
    "    'min_samples_leaf': [round(X_train.shape[0]*0.01),round(X_train.shape[0]*0.025)],\n",
    "    'criterion':['squared_error', 'absolute_error']\n",
    "}\n",
    "\n",
    "forest=RandomForestRegressor(n_estimators=50,random_state=42,max_features=3,n_jobs=-1)\n",
    "grid_search=GridSearchCV(forest,param_grid=param_grid,cv=5, scoring=\"neg_mean_absolute_error\",n_jobs=-1)\n",
    "\n",
    "clf=grid_search.fit(X_train, y_train)\n",
    "print(clf.best_estimator_)\n",
    "print(clf.best_params_)"
   ]
  },
  {
   "cell_type": "code",
   "execution_count": 0,
   "metadata": {
    "application/vnd.databricks.v1+cell": {
     "cellMetadata": {
      "byteLimit": 2048000,
      "rowLimit": 10000
     },
     "inputWidgets": {},
     "nuid": "a007f242-a40c-4e1f-b9ec-6ac5e27721ca",
     "showTitle": false,
     "tableResultSettingsMap": {},
     "title": ""
    }
   },
   "outputs": [
    {
     "data": {
      "text/html": [
       "<div>\n",
       "<style scoped>\n",
       "    .dataframe tbody tr th:only-of-type {\n",
       "        vertical-align: middle;\n",
       "    }\n",
       "\n",
       "    .dataframe tbody tr th {\n",
       "        vertical-align: top;\n",
       "    }\n",
       "\n",
       "    .dataframe thead th {\n",
       "        text-align: right;\n",
       "    }\n",
       "</style>\n",
       "<table border=\"1\" class=\"dataframe\">\n",
       "  <thead>\n",
       "    <tr style=\"text-align: right;\">\n",
       "      <th></th>\n",
       "      <th>mean_fit_time</th>\n",
       "      <th>std_fit_time</th>\n",
       "      <th>mean_score_time</th>\n",
       "      <th>std_score_time</th>\n",
       "      <th>param_criterion</th>\n",
       "      <th>param_max_depth</th>\n",
       "      <th>param_min_samples_leaf</th>\n",
       "      <th>param_min_samples_split</th>\n",
       "      <th>params</th>\n",
       "      <th>split0_test_score</th>\n",
       "      <th>split1_test_score</th>\n",
       "      <th>split2_test_score</th>\n",
       "      <th>split3_test_score</th>\n",
       "      <th>split4_test_score</th>\n",
       "      <th>mean_test_score</th>\n",
       "      <th>std_test_score</th>\n",
       "      <th>rank_test_score</th>\n",
       "    </tr>\n",
       "  </thead>\n",
       "  <tbody>\n",
       "    <tr>\n",
       "      <th>73</th>\n",
       "      <td>0.418925</td>\n",
       "      <td>0.128968</td>\n",
       "      <td>0.018498</td>\n",
       "      <td>0.005968</td>\n",
       "      <td>absolute_error</td>\n",
       "      <td>7</td>\n",
       "      <td>9</td>\n",
       "      <td>47</td>\n",
       "      <td>{'criterion': 'absolute_error', 'max_depth': 7...</td>\n",
       "      <td>-3727.936773</td>\n",
       "      <td>-4025.576746</td>\n",
       "      <td>-3461.283715</td>\n",
       "      <td>-3312.045613</td>\n",
       "      <td>-3903.232224</td>\n",
       "      <td>-3686.015014</td>\n",
       "      <td>266.308164</td>\n",
       "      <td>1</td>\n",
       "    </tr>\n",
       "    <tr>\n",
       "      <th>81</th>\n",
       "      <td>0.395876</td>\n",
       "      <td>0.020766</td>\n",
       "      <td>0.035405</td>\n",
       "      <td>0.012271</td>\n",
       "      <td>absolute_error</td>\n",
       "      <td>9</td>\n",
       "      <td>9</td>\n",
       "      <td>47</td>\n",
       "      <td>{'criterion': 'absolute_error', 'max_depth': 9...</td>\n",
       "      <td>-3761.614910</td>\n",
       "      <td>-4042.576617</td>\n",
       "      <td>-3454.048913</td>\n",
       "      <td>-3318.340844</td>\n",
       "      <td>-3877.148628</td>\n",
       "      <td>-3690.745983</td>\n",
       "      <td>267.680495</td>\n",
       "      <td>2</td>\n",
       "    </tr>\n",
       "    <tr>\n",
       "      <th>85</th>\n",
       "      <td>0.297532</td>\n",
       "      <td>0.015250</td>\n",
       "      <td>0.018834</td>\n",
       "      <td>0.004784</td>\n",
       "      <td>absolute_error</td>\n",
       "      <td>10</td>\n",
       "      <td>9</td>\n",
       "      <td>47</td>\n",
       "      <td>{'criterion': 'absolute_error', 'max_depth': 1...</td>\n",
       "      <td>-3761.614910</td>\n",
       "      <td>-4042.576617</td>\n",
       "      <td>-3454.048913</td>\n",
       "      <td>-3318.340844</td>\n",
       "      <td>-3877.148628</td>\n",
       "      <td>-3690.745983</td>\n",
       "      <td>267.680495</td>\n",
       "      <td>2</td>\n",
       "    </tr>\n",
       "    <tr>\n",
       "      <th>89</th>\n",
       "      <td>0.312126</td>\n",
       "      <td>0.018624</td>\n",
       "      <td>0.023617</td>\n",
       "      <td>0.008108</td>\n",
       "      <td>absolute_error</td>\n",
       "      <td>11</td>\n",
       "      <td>9</td>\n",
       "      <td>47</td>\n",
       "      <td>{'criterion': 'absolute_error', 'max_depth': 1...</td>\n",
       "      <td>-3761.614910</td>\n",
       "      <td>-4042.576617</td>\n",
       "      <td>-3454.048913</td>\n",
       "      <td>-3318.340844</td>\n",
       "      <td>-3877.148628</td>\n",
       "      <td>-3690.745983</td>\n",
       "      <td>267.680495</td>\n",
       "      <td>2</td>\n",
       "    </tr>\n",
       "    <tr>\n",
       "      <th>93</th>\n",
       "      <td>0.294151</td>\n",
       "      <td>0.013702</td>\n",
       "      <td>0.019018</td>\n",
       "      <td>0.003781</td>\n",
       "      <td>absolute_error</td>\n",
       "      <td>12</td>\n",
       "      <td>9</td>\n",
       "      <td>47</td>\n",
       "      <td>{'criterion': 'absolute_error', 'max_depth': 1...</td>\n",
       "      <td>-3761.614910</td>\n",
       "      <td>-4042.576617</td>\n",
       "      <td>-3454.048913</td>\n",
       "      <td>-3318.340844</td>\n",
       "      <td>-3877.148628</td>\n",
       "      <td>-3690.745983</td>\n",
       "      <td>267.680495</td>\n",
       "      <td>2</td>\n",
       "    </tr>\n",
       "  </tbody>\n",
       "</table>\n",
       "</div>"
      ],
      "text/plain": [
       "    mean_fit_time  std_fit_time  ...  std_test_score  rank_test_score\n",
       "73       0.418925      0.128968  ...      266.308164                1\n",
       "81       0.395876      0.020766  ...      267.680495                2\n",
       "85       0.297532      0.015250  ...      267.680495                2\n",
       "89       0.312126      0.018624  ...      267.680495                2\n",
       "93       0.294151      0.013702  ...      267.680495                2\n",
       "\n",
       "[5 rows x 17 columns]"
      ]
     },
     "execution_count": 7,
     "metadata": {},
     "output_type": "execute_result"
    }
   ],
   "source": [
    "cv_results=pd.DataFrame(clf.cv_results_)\n",
    "cv_results.sort_values(by=['rank_test_score','param_max_depth']).head()"
   ]
  },
  {
   "cell_type": "code",
   "execution_count": 0,
   "metadata": {
    "application/vnd.databricks.v1+cell": {
     "cellMetadata": {
      "byteLimit": 2048000,
      "rowLimit": 10000
     },
     "inputWidgets": {},
     "nuid": "4e3ac2f6-267f-4557-a245-84d520ac39b2",
     "showTitle": false,
     "tableResultSettingsMap": {},
     "title": ""
    }
   },
   "outputs": [
    {
     "data": {
      "image/png": "[encoded data removed]",
      "text/plain": [
       "<Figure size 1200x600 with 1 Axes>"
      ]
     },
     "metadata": {},
     "output_type": "display_data"
    }
   ],
   "source": [
    "best_rt_params=clf.best_params_.copy()\n",
    "forest=RandomForestRegressor(**best_rt_params)\n",
    "forest.fit(X_train,y_train)\n",
    "\n",
    "results = permutation_importance(forest, X_test, y_test, n_repeats=10, random_state=42)\n",
    "sorted_idx = results.importances_mean.argsort()\n",
    "prc=results.importances_mean/results.importances_mean.sum()\n",
    "\n",
    "plt.figure(figsize=(12, 6)) \n",
    "plt.hlines(y=range(len(sorted_idx)), xmin=0, xmax=prc[sorted_idx], \n",
    "           color='skyblue', alpha=1)  # Draw horizontal lines\n",
    "plt.plot(prc[sorted_idx], \n",
    "         range(len(sorted_idx)), \"o\", color='orange', markersize=8)\n",
    "\n",
    "plt.yticks(range(len(sorted_idx)), np.array(X_test.columns)[sorted_idx])  # Set y-ticks to feature names\n",
    "plt.xlabel(\"Percentage Permutation Importance\")\n",
    "plt.title(\"% Feature Importance using Permutation\")\n",
    "plt.grid(axis='x', linestyle='--', alpha=0.7)  # Optional grid for better readability\n",
    "plt.show()"
   ]
  },
  {
   "cell_type": "markdown",
   "metadata": {
    "application/vnd.databricks.v1+cell": {
     "cellMetadata": {
      "byteLimit": 2048000,
      "rowLimit": 10000
     },
     "inputWidgets": {},
     "nuid": "dd7012df-bfda-48bd-9352-a6921846e690",
     "showTitle": false,
     "tableResultSettingsMap": {},
     "title": ""
    }
   },
   "source": [
    "### Extra Random Trees"
   ]
  },
  {
   "cell_type": "code",
   "execution_count": 0,
   "metadata": {
    "application/vnd.databricks.v1+cell": {
     "cellMetadata": {
      "byteLimit": 2048000,
      "rowLimit": 10000
     },
     "inputWidgets": {},
     "nuid": "d0f5c24c-b1c3-438a-aec9-301f9152084f",
     "showTitle": false,
     "tableResultSettingsMap": {},
     "title": ""
    }
   },
   "outputs": [
    {
     "name": "stdout",
     "output_type": "stream",
     "text": [
      "ExtraTreesRegressor(criterion='absolute_error', max_depth=8, max_features=3,\n",
      "                    min_samples_leaf=9, min_samples_split=47, n_estimators=50,\n",
      "                    n_jobs=-1, random_state=42)\n",
      "{'criterion': 'absolute_error', 'max_depth': 8, 'min_samples_leaf': 9, 'min_samples_split': 47}\n"
     ]
    }
   ],
   "source": [
    "param_grid = {\n",
    "    'max_depth': np.arange(5,21,1).tolist(),\n",
    "    'min_samples_split': [round(X_train.shape[0]*0.1),round(X_train.shape[0]*0.05)],\n",
    "    'min_samples_leaf': [round(X_train.shape[0]*0.01),round(X_train.shape[0]*0.025)],\n",
    "    'criterion':['squared_error', 'absolute_error']\n",
    "}\n",
    "\n",
    "etree=ExtraTreesRegressor(n_estimators=50,random_state=42,max_features=3,n_jobs=-1)\n",
    "grid_search=GridSearchCV(etree,param_grid=param_grid,cv=5, scoring=\"neg_mean_absolute_error\",n_jobs=-1)\n",
    "\n",
    "clf=grid_search.fit(X_train, y_train)\n",
    "print(clf.best_estimator_)\n",
    "print(clf.best_params_)"
   ]
  },
  {
   "cell_type": "code",
   "execution_count": 0,
   "metadata": {
    "application/vnd.databricks.v1+cell": {
     "cellMetadata": {
      "byteLimit": 2048000,
      "rowLimit": 10000
     },
     "inputWidgets": {},
     "nuid": "62b1ccc8-aa54-47f1-ab6d-832845c1ec7d",
     "showTitle": false,
     "tableResultSettingsMap": {},
     "title": ""
    }
   },
   "outputs": [
    {
     "data": {
      "text/html": [
       "<div>\n",
       "<style scoped>\n",
       "    .dataframe tbody tr th:only-of-type {\n",
       "        vertical-align: middle;\n",
       "    }\n",
       "\n",
       "    .dataframe tbody tr th {\n",
       "        vertical-align: top;\n",
       "    }\n",
       "\n",
       "    .dataframe thead th {\n",
       "        text-align: right;\n",
       "    }\n",
       "</style>\n",
       "<table border=\"1\" class=\"dataframe\">\n",
       "  <thead>\n",
       "    <tr style=\"text-align: right;\">\n",
       "      <th></th>\n",
       "      <th>mean_fit_time</th>\n",
       "      <th>std_fit_time</th>\n",
       "      <th>mean_score_time</th>\n",
       "      <th>std_score_time</th>\n",
       "      <th>param_criterion</th>\n",
       "      <th>param_max_depth</th>\n",
       "      <th>param_min_samples_leaf</th>\n",
       "      <th>param_min_samples_split</th>\n",
       "      <th>params</th>\n",
       "      <th>split0_test_score</th>\n",
       "      <th>split1_test_score</th>\n",
       "      <th>split2_test_score</th>\n",
       "      <th>split3_test_score</th>\n",
       "      <th>split4_test_score</th>\n",
       "      <th>mean_test_score</th>\n",
       "      <th>std_test_score</th>\n",
       "      <th>rank_test_score</th>\n",
       "    </tr>\n",
       "  </thead>\n",
       "  <tbody>\n",
       "    <tr>\n",
       "      <th>77</th>\n",
       "      <td>0.816423</td>\n",
       "      <td>0.023365</td>\n",
       "      <td>0.031073</td>\n",
       "      <td>0.013099</td>\n",
       "      <td>absolute_error</td>\n",
       "      <td>8</td>\n",
       "      <td>9</td>\n",
       "      <td>47</td>\n",
       "      <td>{'criterion': 'absolute_error', 'max_depth': 8...</td>\n",
       "      <td>-4010.010613</td>\n",
       "      <td>-3995.576645</td>\n",
       "      <td>-4051.403312</td>\n",
       "      <td>-3867.904531</td>\n",
       "      <td>-4237.613485</td>\n",
       "      <td>-4032.501717</td>\n",
       "      <td>119.490294</td>\n",
       "      <td>1</td>\n",
       "    </tr>\n",
       "    <tr>\n",
       "      <th>81</th>\n",
       "      <td>0.824012</td>\n",
       "      <td>0.029361</td>\n",
       "      <td>0.031258</td>\n",
       "      <td>0.009416</td>\n",
       "      <td>absolute_error</td>\n",
       "      <td>9</td>\n",
       "      <td>9</td>\n",
       "      <td>47</td>\n",
       "      <td>{'criterion': 'absolute_error', 'max_depth': 9...</td>\n",
       "      <td>-4040.136461</td>\n",
       "      <td>-4121.695739</td>\n",
       "      <td>-3957.485597</td>\n",
       "      <td>-3825.942733</td>\n",
       "      <td>-4259.981118</td>\n",
       "      <td>-4041.048329</td>\n",
       "      <td>146.757998</td>\n",
       "      <td>2</td>\n",
       "    </tr>\n",
       "    <tr>\n",
       "      <th>73</th>\n",
       "      <td>0.868572</td>\n",
       "      <td>0.037527</td>\n",
       "      <td>0.026046</td>\n",
       "      <td>0.009916</td>\n",
       "      <td>absolute_error</td>\n",
       "      <td>7</td>\n",
       "      <td>9</td>\n",
       "      <td>47</td>\n",
       "      <td>{'criterion': 'absolute_error', 'max_depth': 7...</td>\n",
       "      <td>-4051.342245</td>\n",
       "      <td>-4092.286171</td>\n",
       "      <td>-4107.096068</td>\n",
       "      <td>-3783.788562</td>\n",
       "      <td>-4177.461082</td>\n",
       "      <td>-4042.394826</td>\n",
       "      <td>135.554820</td>\n",
       "      <td>3</td>\n",
       "    </tr>\n",
       "    <tr>\n",
       "      <th>93</th>\n",
       "      <td>0.852323</td>\n",
       "      <td>0.066946</td>\n",
       "      <td>0.019398</td>\n",
       "      <td>0.006730</td>\n",
       "      <td>absolute_error</td>\n",
       "      <td>12</td>\n",
       "      <td>9</td>\n",
       "      <td>47</td>\n",
       "      <td>{'criterion': 'absolute_error', 'max_depth': 1...</td>\n",
       "      <td>-4094.098577</td>\n",
       "      <td>-4076.345802</td>\n",
       "      <td>-4055.350341</td>\n",
       "      <td>-3809.625672</td>\n",
       "      <td>-4242.559909</td>\n",
       "      <td>-4055.596060</td>\n",
       "      <td>139.549252</td>\n",
       "      <td>4</td>\n",
       "    </tr>\n",
       "    <tr>\n",
       "      <th>105</th>\n",
       "      <td>0.821895</td>\n",
       "      <td>0.042398</td>\n",
       "      <td>0.036686</td>\n",
       "      <td>0.009158</td>\n",
       "      <td>absolute_error</td>\n",
       "      <td>15</td>\n",
       "      <td>9</td>\n",
       "      <td>47</td>\n",
       "      <td>{'criterion': 'absolute_error', 'max_depth': 1...</td>\n",
       "      <td>-4094.098577</td>\n",
       "      <td>-4076.345802</td>\n",
       "      <td>-4055.350341</td>\n",
       "      <td>-3809.625672</td>\n",
       "      <td>-4242.559909</td>\n",
       "      <td>-4055.596060</td>\n",
       "      <td>139.549252</td>\n",
       "      <td>4</td>\n",
       "    </tr>\n",
       "  </tbody>\n",
       "</table>\n",
       "</div>"
      ],
      "text/plain": [
       "     mean_fit_time  std_fit_time  ...  std_test_score  rank_test_score\n",
       "77        0.816423      0.023365  ...      119.490294                1\n",
       "81        0.824012      0.029361  ...      146.757998                2\n",
       "73        0.868572      0.037527  ...      135.554820                3\n",
       "93        0.852323      0.066946  ...      139.549252                4\n",
       "105       0.821895      0.042398  ...      139.549252                4\n",
       "\n",
       "[5 rows x 17 columns]"
      ]
     },
     "execution_count": 11,
     "metadata": {},
     "output_type": "execute_result"
    }
   ],
   "source": [
    "cv_results=pd.DataFrame(clf.cv_results_)\n",
    "cv_results.sort_values(by=['rank_test_score','param_max_depth']).head()"
   ]
  },
  {
   "cell_type": "code",
   "execution_count": 0,
   "metadata": {
    "application/vnd.databricks.v1+cell": {
     "cellMetadata": {
      "byteLimit": 2048000,
      "rowLimit": 10000
     },
     "inputWidgets": {},
     "nuid": "85977ebd-3d0f-433d-9f41-7db63011cd26",
     "showTitle": false,
     "tableResultSettingsMap": {},
     "title": ""
    }
   },
   "outputs": [
    {
     "data": {
      "image/png": "[encoded data removed]",
      "text/plain": [
       "<Figure size 1200x600 with 1 Axes>"
      ]
     },
     "metadata": {},
     "output_type": "display_data"
    }
   ],
   "source": [
    "best_etree_params=clf.best_params_.copy()\n",
    "etree=ExtraTreesRegressor(**best_etree_params)\n",
    "etree.fit(X_train,y_train)\n",
    "\n",
    "results = permutation_importance(etree, X_test, y_test, n_repeats=10, random_state=42)\n",
    "sorted_idx = results.importances_mean.argsort()\n",
    "prc=results.importances_mean/results.importances_mean.sum()\n",
    "\n",
    "plt.figure(figsize=(12, 6)) \n",
    "plt.hlines(y=range(len(sorted_idx)), xmin=0, xmax=prc[sorted_idx], \n",
    "           color='skyblue', alpha=1)  \n",
    "plt.plot(prc[sorted_idx], \n",
    "         range(len(sorted_idx)), \"o\", color='orange', markersize=8)\n",
    "\n",
    "plt.yticks(range(len(sorted_idx)), np.array(X_test.columns)[sorted_idx])  \n",
    "plt.xlabel(\"Percentage Permutation Importance\")\n",
    "plt.title(\"% Feature Importance using Permutation\")\n",
    "plt.grid(axis='x', linestyle='--', alpha=0.7)  \n",
    "plt.show()"
   ]
  },
  {
   "cell_type": "markdown",
   "metadata": {
    "application/vnd.databricks.v1+cell": {
     "cellMetadata": {
      "byteLimit": 2048000,
      "rowLimit": 10000
     },
     "inputWidgets": {},
     "nuid": "86bf1c17-dc50-457f-831d-fa579a2b74ed",
     "showTitle": false,
     "tableResultSettingsMap": {},
     "title": ""
    }
   },
   "source": [
    "### AdaBoost Regressor"
   ]
  },
  {
   "cell_type": "code",
   "execution_count": 0,
   "metadata": {
    "application/vnd.databricks.v1+cell": {
     "cellMetadata": {
      "byteLimit": 2048000,
      "rowLimit": 10000
     },
     "inputWidgets": {},
     "nuid": "91357fcd-63a5-4c2c-813f-ebb4ba2076f1",
     "showTitle": false,
     "tableResultSettingsMap": {},
     "title": ""
    }
   },
   "outputs": [
    {
     "name": "stdout",
     "output_type": "stream",
     "text": [
      "AdaBoostRegressor(learning_rate=0.1, n_estimators=10, random_state=42)\n",
      "{'learning_rate': 0.1, 'n_estimators': 10}\n"
     ]
    }
   ],
   "source": [
    "param_grid = {\n",
    "    'n_estimators':[10,25,50,100],\n",
    "    'learning_rate': [0.1,0.3, 0.5,0.8,1]\n",
    "}\n",
    "\n",
    "ada=AdaBoostRegressor(random_state=42)\n",
    "grid_search=GridSearchCV(ada,param_grid=param_grid,cv=5, scoring=\"neg_mean_absolute_error\",n_jobs=-1)\n",
    "\n",
    "clf=grid_search.fit(X_train, y_train)\n",
    "print(clf.best_estimator_)\n",
    "print(clf.best_params_)"
   ]
  },
  {
   "cell_type": "code",
   "execution_count": 0,
   "metadata": {
    "application/vnd.databricks.v1+cell": {
     "cellMetadata": {
      "byteLimit": 2048000,
      "rowLimit": 10000
     },
     "inputWidgets": {},
     "nuid": "f05d9c02-0fe4-48f1-90ed-438ab29a488d",
     "showTitle": false,
     "tableResultSettingsMap": {},
     "title": ""
    }
   },
   "outputs": [
    {
     "data": {
      "text/html": [
       "<div>\n",
       "<style scoped>\n",
       "    .dataframe tbody tr th:only-of-type {\n",
       "        vertical-align: middle;\n",
       "    }\n",
       "\n",
       "    .dataframe tbody tr th {\n",
       "        vertical-align: top;\n",
       "    }\n",
       "\n",
       "    .dataframe thead th {\n",
       "        text-align: right;\n",
       "    }\n",
       "</style>\n",
       "<table border=\"1\" class=\"dataframe\">\n",
       "  <thead>\n",
       "    <tr style=\"text-align: right;\">\n",
       "      <th></th>\n",
       "      <th>mean_fit_time</th>\n",
       "      <th>std_fit_time</th>\n",
       "      <th>mean_score_time</th>\n",
       "      <th>std_score_time</th>\n",
       "      <th>param_learning_rate</th>\n",
       "      <th>param_n_estimators</th>\n",
       "      <th>params</th>\n",
       "      <th>split0_test_score</th>\n",
       "      <th>split1_test_score</th>\n",
       "      <th>split2_test_score</th>\n",
       "      <th>split3_test_score</th>\n",
       "      <th>split4_test_score</th>\n",
       "      <th>mean_test_score</th>\n",
       "      <th>std_test_score</th>\n",
       "      <th>rank_test_score</th>\n",
       "    </tr>\n",
       "  </thead>\n",
       "  <tbody>\n",
       "    <tr>\n",
       "      <th>0</th>\n",
       "      <td>0.052816</td>\n",
       "      <td>0.021862</td>\n",
       "      <td>0.011904</td>\n",
       "      <td>0.009139</td>\n",
       "      <td>0.1</td>\n",
       "      <td>10</td>\n",
       "      <td>{'learning_rate': 0.1, 'n_estimators': 10}</td>\n",
       "      <td>-3044.367256</td>\n",
       "      <td>-2729.961415</td>\n",
       "      <td>-3121.093904</td>\n",
       "      <td>-3254.508679</td>\n",
       "      <td>-3547.550074</td>\n",
       "      <td>-3139.496266</td>\n",
       "      <td>267.148923</td>\n",
       "      <td>1</td>\n",
       "    </tr>\n",
       "    <tr>\n",
       "      <th>1</th>\n",
       "      <td>0.090180</td>\n",
       "      <td>0.020062</td>\n",
       "      <td>0.007031</td>\n",
       "      <td>0.000816</td>\n",
       "      <td>0.1</td>\n",
       "      <td>25</td>\n",
       "      <td>{'learning_rate': 0.1, 'n_estimators': 25}</td>\n",
       "      <td>-3431.436593</td>\n",
       "      <td>-3184.217374</td>\n",
       "      <td>-3597.892644</td>\n",
       "      <td>-3736.576105</td>\n",
       "      <td>-3865.338723</td>\n",
       "      <td>-3563.092288</td>\n",
       "      <td>238.134428</td>\n",
       "      <td>2</td>\n",
       "    </tr>\n",
       "    <tr>\n",
       "      <th>4</th>\n",
       "      <td>0.032135</td>\n",
       "      <td>0.001411</td>\n",
       "      <td>0.006023</td>\n",
       "      <td>0.003538</td>\n",
       "      <td>0.3</td>\n",
       "      <td>10</td>\n",
       "      <td>{'learning_rate': 0.3, 'n_estimators': 10}</td>\n",
       "      <td>-3456.203362</td>\n",
       "      <td>-3209.060144</td>\n",
       "      <td>-3520.031319</td>\n",
       "      <td>-3962.777946</td>\n",
       "      <td>-3862.032341</td>\n",
       "      <td>-3602.021022</td>\n",
       "      <td>275.737120</td>\n",
       "      <td>3</td>\n",
       "    </tr>\n",
       "    <tr>\n",
       "      <th>8</th>\n",
       "      <td>0.031757</td>\n",
       "      <td>0.002215</td>\n",
       "      <td>0.004275</td>\n",
       "      <td>0.000610</td>\n",
       "      <td>0.5</td>\n",
       "      <td>10</td>\n",
       "      <td>{'learning_rate': 0.5, 'n_estimators': 10}</td>\n",
       "      <td>-3586.379059</td>\n",
       "      <td>-3578.780431</td>\n",
       "      <td>-3853.564860</td>\n",
       "      <td>-4112.190003</td>\n",
       "      <td>-3918.529504</td>\n",
       "      <td>-3809.888771</td>\n",
       "      <td>204.188198</td>\n",
       "      <td>4</td>\n",
       "    </tr>\n",
       "    <tr>\n",
       "      <th>12</th>\n",
       "      <td>0.029788</td>\n",
       "      <td>0.002955</td>\n",
       "      <td>0.004530</td>\n",
       "      <td>0.000770</td>\n",
       "      <td>0.8</td>\n",
       "      <td>10</td>\n",
       "      <td>{'learning_rate': 0.8, 'n_estimators': 10}</td>\n",
       "      <td>-3704.041339</td>\n",
       "      <td>-3522.969330</td>\n",
       "      <td>-4032.360347</td>\n",
       "      <td>-4002.668143</td>\n",
       "      <td>-3995.449705</td>\n",
       "      <td>-3851.497773</td>\n",
       "      <td>202.958246</td>\n",
       "      <td>5</td>\n",
       "    </tr>\n",
       "  </tbody>\n",
       "</table>\n",
       "</div>"
      ],
      "text/plain": [
       "    mean_fit_time  std_fit_time  ...  std_test_score  rank_test_score\n",
       "0        0.052816      0.021862  ...      267.148923                1\n",
       "1        0.090180      0.020062  ...      238.134428                2\n",
       "4        0.032135      0.001411  ...      275.737120                3\n",
       "8        0.031757      0.002215  ...      204.188198                4\n",
       "12       0.029788      0.002955  ...      202.958246                5\n",
       "\n",
       "[5 rows x 15 columns]"
      ]
     },
     "execution_count": 14,
     "metadata": {},
     "output_type": "execute_result"
    }
   ],
   "source": [
    "cv_results=pd.DataFrame(clf.cv_results_)\n",
    "cv_results.sort_values(by=['rank_test_score']).head()"
   ]
  },
  {
   "cell_type": "code",
   "execution_count": 0,
   "metadata": {
    "application/vnd.databricks.v1+cell": {
     "cellMetadata": {
      "byteLimit": 2048000,
      "rowLimit": 10000
     },
     "inputWidgets": {},
     "nuid": "56bcd644-437c-4f65-8470-942e00b2046d",
     "showTitle": false,
     "tableResultSettingsMap": {},
     "title": ""
    }
   },
   "outputs": [
    {
     "data": {
      "image/png": "[encoded data removed]",
      "text/plain": [
       "<Figure size 1200x600 with 1 Axes>"
      ]
     },
     "metadata": {},
     "output_type": "display_data"
    }
   ],
   "source": [
    "best_ada_params=clf.best_params_.copy()\n",
    "ada=AdaBoostRegressor(**best_ada_params)\n",
    "ada.fit(X_train,y_train)\n",
    "\n",
    "results = permutation_importance(ada, X_test, y_test, n_repeats=10, random_state=42)\n",
    "sorted_idx = results.importances_mean.argsort()\n",
    "prc=results.importances_mean/results.importances_mean.sum()\n",
    "\n",
    "plt.figure(figsize=(12, 6)) \n",
    "plt.hlines(y=range(len(sorted_idx)), xmin=0, xmax=prc[sorted_idx], \n",
    "           color='skyblue', alpha=1)  \n",
    "plt.plot(prc[sorted_idx], \n",
    "         range(len(sorted_idx)), \"o\", color='orange', markersize=8)\n",
    "\n",
    "plt.yticks(range(len(sorted_idx)), np.array(X_test.columns)[sorted_idx])  \n",
    "plt.xlabel(\"Percentage Permutation Importance\")\n",
    "plt.title(\"% Feature Importance using Permutation\")\n",
    "plt.grid(axis='x', linestyle='--', alpha=0.7)  \n",
    "plt.show()"
   ]
  },
  {
   "cell_type": "markdown",
   "metadata": {
    "application/vnd.databricks.v1+cell": {
     "cellMetadata": {
      "byteLimit": 2048000,
      "rowLimit": 10000
     },
     "inputWidgets": {},
     "nuid": "7cbb967e-273f-4449-b174-6e148b6f14a0",
     "showTitle": false,
     "tableResultSettingsMap": {},
     "title": ""
    }
   },
   "source": [
    "### XGBOOST"
   ]
  },
  {
   "cell_type": "code",
   "execution_count": 0,
   "metadata": {
    "application/vnd.databricks.v1+cell": {
     "cellMetadata": {
      "byteLimit": 2048000,
      "rowLimit": 10000
     },
     "inputWidgets": {},
     "nuid": "02942528-04d1-41e6-8444-424a253fe8ec",
     "showTitle": false,
     "tableResultSettingsMap": {},
     "title": ""
    }
   },
   "outputs": [
    {
     "name": "stdout",
     "output_type": "stream",
     "text": [
      "XGBRegressor(base_score=None, booster=None, callbacks=None,\n",
      "             colsample_bylevel=None, colsample_bynode=None,\n",
      "             colsample_bytree=1.0, early_stopping_rounds=None,\n",
      "             enable_categorical=False, eval_metric=None, feature_types=None,\n",
      "             gamma=1, gpu_id=None, grow_policy=None, importance_type=None,\n",
      "             interaction_constraints=None, learning_rate=0.1, max_bin=None,\n",
      "             max_cat_threshold=None, max_cat_to_onehot=None,\n",
      "             max_delta_step=None, max_depth=5, max_leaves=None,\n",
      "             min_child_weight=None, missing=nan, monotone_constraints=None,\n",
      "             n_estimators=25, n_jobs=None, num_parallel_tree=None,\n",
      "             predictor=None, random_state=42, ...)\n",
      "{'colsample_bytree': 1.0, 'gamma': 1, 'learning_rate': 0.1, 'max_depth': 5, 'n_estimators': 25, 'reg_alpha': 0.1, 'reg_lambda': 1, 'subsample': 1.0}\n"
     ]
    }
   ],
   "source": [
    "X_train = X_train.astype(float)\n",
    "X_test = X_test.astype(float)\n",
    "\n",
    "param_grid = {\n",
    "    'n_estimators': [10,25],        \n",
    "    'learning_rate': [0.1, 0.5,1.],     \n",
    "    'max_depth': [5, 12],                \n",
    "    'subsample': [0.8, 1.0],              \n",
    "    'colsample_bytree': [0.8, 1.0],       \n",
    "    'gamma': [1, 2],                  \n",
    "    'reg_alpha': [0, 0.1],              \n",
    "    'reg_lambda': [0.5, 1]              \n",
    "}\n",
    "\n",
    "xgb_model = xgb.XGBRegressor(objective='reg:squarederror', random_state=42)\n",
    "grid_search = GridSearchCV(xgb_model, param_grid=param_grid, scoring='neg_mean_squared_error', \n",
    "                           cv=5, n_jobs=-1)\n",
    "\n",
    "clf=grid_search.fit(X_train, y_train)\n",
    "print(clf.best_estimator_)\n",
    "print(clf.best_params_)"
   ]
  },
  {
   "cell_type": "code",
   "execution_count": 0,
   "metadata": {
    "application/vnd.databricks.v1+cell": {
     "cellMetadata": {
      "byteLimit": 2048000,
      "rowLimit": 10000
     },
     "inputWidgets": {},
     "nuid": "85fc4404-7e4f-4609-b22b-be302071f935",
     "showTitle": false,
     "tableResultSettingsMap": {},
     "title": ""
    }
   },
   "outputs": [
    {
     "data": {
      "text/html": [
       "<div>\n",
       "<style scoped>\n",
       "    .dataframe tbody tr th:only-of-type {\n",
       "        vertical-align: middle;\n",
       "    }\n",
       "\n",
       "    .dataframe tbody tr th {\n",
       "        vertical-align: top;\n",
       "    }\n",
       "\n",
       "    .dataframe thead th {\n",
       "        text-align: right;\n",
       "    }\n",
       "</style>\n",
       "<table border=\"1\" class=\"dataframe\">\n",
       "  <thead>\n",
       "    <tr style=\"text-align: right;\">\n",
       "      <th></th>\n",
       "      <th>mean_fit_time</th>\n",
       "      <th>std_fit_time</th>\n",
       "      <th>mean_score_time</th>\n",
       "      <th>std_score_time</th>\n",
       "      <th>param_colsample_bytree</th>\n",
       "      <th>param_gamma</th>\n",
       "      <th>param_learning_rate</th>\n",
       "      <th>param_max_depth</th>\n",
       "      <th>param_n_estimators</th>\n",
       "      <th>param_reg_alpha</th>\n",
       "      <th>param_reg_lambda</th>\n",
       "      <th>param_subsample</th>\n",
       "      <th>params</th>\n",
       "      <th>split0_test_score</th>\n",
       "      <th>split1_test_score</th>\n",
       "      <th>split2_test_score</th>\n",
       "      <th>split3_test_score</th>\n",
       "      <th>split4_test_score</th>\n",
       "      <th>mean_test_score</th>\n",
       "      <th>std_test_score</th>\n",
       "      <th>rank_test_score</th>\n",
       "    </tr>\n",
       "  </thead>\n",
       "  <tbody>\n",
       "    <tr>\n",
       "      <th>207</th>\n",
       "      <td>0.037959</td>\n",
       "      <td>0.014096</td>\n",
       "      <td>0.003036</td>\n",
       "      <td>0.000642</td>\n",
       "      <td>1.0</td>\n",
       "      <td>1</td>\n",
       "      <td>0.1</td>\n",
       "      <td>5</td>\n",
       "      <td>25</td>\n",
       "      <td>0.1</td>\n",
       "      <td>1</td>\n",
       "      <td>1.0</td>\n",
       "      <td>{'colsample_bytree': 1.0, 'gamma': 1, 'learnin...</td>\n",
       "      <td>-2.127259e+07</td>\n",
       "      <td>-1.911663e+07</td>\n",
       "      <td>-2.786410e+07</td>\n",
       "      <td>-2.732686e+07</td>\n",
       "      <td>-2.759775e+07</td>\n",
       "      <td>-2.463559e+07</td>\n",
       "      <td>3.693489e+06</td>\n",
       "      <td>1</td>\n",
       "    </tr>\n",
       "    <tr>\n",
       "      <th>303</th>\n",
       "      <td>0.042693</td>\n",
       "      <td>0.007318</td>\n",
       "      <td>0.008141</td>\n",
       "      <td>0.002644</td>\n",
       "      <td>1.0</td>\n",
       "      <td>2</td>\n",
       "      <td>0.1</td>\n",
       "      <td>5</td>\n",
       "      <td>25</td>\n",
       "      <td>0.1</td>\n",
       "      <td>1</td>\n",
       "      <td>1.0</td>\n",
       "      <td>{'colsample_bytree': 1.0, 'gamma': 2, 'learnin...</td>\n",
       "      <td>-2.127259e+07</td>\n",
       "      <td>-1.911663e+07</td>\n",
       "      <td>-2.786410e+07</td>\n",
       "      <td>-2.732686e+07</td>\n",
       "      <td>-2.759775e+07</td>\n",
       "      <td>-2.463559e+07</td>\n",
       "      <td>3.693489e+06</td>\n",
       "      <td>1</td>\n",
       "    </tr>\n",
       "    <tr>\n",
       "      <th>299</th>\n",
       "      <td>0.030392</td>\n",
       "      <td>0.000834</td>\n",
       "      <td>0.002678</td>\n",
       "      <td>0.000434</td>\n",
       "      <td>1.0</td>\n",
       "      <td>2</td>\n",
       "      <td>0.1</td>\n",
       "      <td>5</td>\n",
       "      <td>25</td>\n",
       "      <td>0</td>\n",
       "      <td>1</td>\n",
       "      <td>1.0</td>\n",
       "      <td>{'colsample_bytree': 1.0, 'gamma': 2, 'learnin...</td>\n",
       "      <td>-2.127259e+07</td>\n",
       "      <td>-1.917423e+07</td>\n",
       "      <td>-2.786409e+07</td>\n",
       "      <td>-2.732686e+07</td>\n",
       "      <td>-2.759775e+07</td>\n",
       "      <td>-2.464710e+07</td>\n",
       "      <td>3.676304e+06</td>\n",
       "      <td>3</td>\n",
       "    </tr>\n",
       "    <tr>\n",
       "      <th>203</th>\n",
       "      <td>0.030036</td>\n",
       "      <td>0.000821</td>\n",
       "      <td>0.002489</td>\n",
       "      <td>0.000441</td>\n",
       "      <td>1.0</td>\n",
       "      <td>1</td>\n",
       "      <td>0.1</td>\n",
       "      <td>5</td>\n",
       "      <td>25</td>\n",
       "      <td>0</td>\n",
       "      <td>1</td>\n",
       "      <td>1.0</td>\n",
       "      <td>{'colsample_bytree': 1.0, 'gamma': 1, 'learnin...</td>\n",
       "      <td>-2.127259e+07</td>\n",
       "      <td>-1.917423e+07</td>\n",
       "      <td>-2.786409e+07</td>\n",
       "      <td>-2.732686e+07</td>\n",
       "      <td>-2.759775e+07</td>\n",
       "      <td>-2.464710e+07</td>\n",
       "      <td>3.676304e+06</td>\n",
       "      <td>3</td>\n",
       "    </tr>\n",
       "    <tr>\n",
       "      <th>298</th>\n",
       "      <td>0.032119</td>\n",
       "      <td>0.001420</td>\n",
       "      <td>0.002603</td>\n",
       "      <td>0.000599</td>\n",
       "      <td>1.0</td>\n",
       "      <td>2</td>\n",
       "      <td>0.1</td>\n",
       "      <td>5</td>\n",
       "      <td>25</td>\n",
       "      <td>0</td>\n",
       "      <td>1</td>\n",
       "      <td>0.8</td>\n",
       "      <td>{'colsample_bytree': 1.0, 'gamma': 2, 'learnin...</td>\n",
       "      <td>-2.179038e+07</td>\n",
       "      <td>-1.930035e+07</td>\n",
       "      <td>-2.809848e+07</td>\n",
       "      <td>-2.655495e+07</td>\n",
       "      <td>-2.757986e+07</td>\n",
       "      <td>-2.466480e+07</td>\n",
       "      <td>3.489985e+06</td>\n",
       "      <td>5</td>\n",
       "    </tr>\n",
       "  </tbody>\n",
       "</table>\n",
       "</div>"
      ],
      "text/plain": [
       "     mean_fit_time  std_fit_time  ...  std_test_score  rank_test_score\n",
       "207       0.037959      0.014096  ...    3.693489e+06                1\n",
       "303       0.042693      0.007318  ...    3.693489e+06                1\n",
       "299       0.030392      0.000834  ...    3.676304e+06                3\n",
       "203       0.030036      0.000821  ...    3.676304e+06                3\n",
       "298       0.032119      0.001420  ...    3.489985e+06                5\n",
       "\n",
       "[5 rows x 21 columns]"
      ]
     },
     "execution_count": 17,
     "metadata": {},
     "output_type": "execute_result"
    }
   ],
   "source": [
    "cv_results=pd.DataFrame(clf.cv_results_)\n",
    "cv_results.sort_values(by=['rank_test_score']).head()"
   ]
  },
  {
   "cell_type": "code",
   "execution_count": 0,
   "metadata": {
    "application/vnd.databricks.v1+cell": {
     "cellMetadata": {
      "byteLimit": 2048000,
      "rowLimit": 10000
     },
     "inputWidgets": {},
     "nuid": "121fb1a8-ead5-48e9-b78c-8eb5dfb2e130",
     "showTitle": false,
     "tableResultSettingsMap": {},
     "title": ""
    }
   },
   "outputs": [
    {
     "data": {
      "image/png": "[encoded data removed]",
      "text/plain": [
       "<Figure size 1200x600 with 1 Axes>"
      ]
     },
     "metadata": {},
     "output_type": "display_data"
    }
   ],
   "source": [
    "best_xgb_params=clf.best_params_.copy()\n",
    "xgb_model=xgb.XGBRegressor(**best_xgb_params)\n",
    "xgb_model.fit(X_train,y_train)\n",
    "\n",
    "results = permutation_importance(xgb_model, X_test, y_test, n_repeats=10, random_state=42)\n",
    "sorted_idx = results.importances_mean.argsort()\n",
    "prc=results.importances_mean/results.importances_mean.sum()\n",
    "\n",
    "plt.figure(figsize=(12, 6)) \n",
    "plt.hlines(y=range(len(sorted_idx)), xmin=0, xmax=prc[sorted_idx], \n",
    "           color='skyblue', alpha=1)  \n",
    "plt.plot(prc[sorted_idx], \n",
    "         range(len(sorted_idx)), \"o\", color='orange', markersize=8)\n",
    "\n",
    "plt.yticks(range(len(sorted_idx)), np.array(X_test.columns)[sorted_idx])  \n",
    "plt.xlabel(\"Percentage Permutation Importance\")\n",
    "plt.title(\"% Feature Importance using Permutation\")\n",
    "plt.grid(axis='x', linestyle='--', alpha=0.7)  \n",
    "plt.show()"
   ]
  },
  {
   "cell_type": "markdown",
   "metadata": {
    "application/vnd.databricks.v1+cell": {
     "cellMetadata": {
      "byteLimit": 2048000,
      "rowLimit": 10000
     },
     "inputWidgets": {},
     "nuid": "4fcfad2e-0533-400a-8d78-46952ac984e8",
     "showTitle": false,
     "tableResultSettingsMap": {},
     "title": ""
    }
   },
   "source": [
    "## MLflow implementation"
   ]
  },
  {
   "cell_type": "code",
   "execution_count": 0,
   "metadata": {
    "application/vnd.databricks.v1+cell": {
     "cellMetadata": {
      "byteLimit": 2048000,
      "rowLimit": 10000
     },
     "inputWidgets": {},
     "nuid": "28f344fe-b9a9-432c-9211-07d00e7bccf4",
     "showTitle": false,
     "tableResultSettingsMap": {},
     "title": ""
    }
   },
   "outputs": [],
   "source": [
    "\n",
    "def evaluation_metrics(y_true,y_pred):\n",
    "  mae=mean_absolute_error(y_true, y_pred)\n",
    "  mse=mean_squared_error(y_true, y_pred)\n",
    "  rmse = np.sqrt(mse)\n",
    "  mape=mean_absolute_percentage_error(y_true, y_pred)\n",
    "  return {'MAE':mae,'MSE':mse,'RMSE':rmse,'MAPE':mape}\n"
   ]
  },
  {
   "cell_type": "code",
   "execution_count": 0,
   "metadata": {
    "application/vnd.databricks.v1+cell": {
     "cellMetadata": {
      "byteLimit": 2048000,
      "rowLimit": 10000
     },
     "inputWidgets": {},
     "nuid": "d5cd6d41-29cc-45f3-9108-6c902aea43af",
     "showTitle": false,
     "tableResultSettingsMap": {},
     "title": ""
    }
   },
   "outputs": [],
   "source": [
    "models = [\n",
    "    (\n",
    "        \"Random Forest\", \n",
    "        RandomForestRegressor(), \n",
    "        best_rt_params,\n",
    "        (X_train, y_train),\n",
    "        (X_test, y_test)\n",
    "    ),\n",
    "    (\n",
    "        \"Extra Random Trees\", \n",
    "        ExtraTreesRegressor(), \n",
    "        best_etree_params,\n",
    "        (X_train, y_train),\n",
    "        (X_test, y_test)\n",
    "    ),\n",
    "    (\n",
    "        \"Adaboost\",\n",
    "        AdaBoostRegressor(),\n",
    "        best_ada_params,\n",
    "        (X_train, y_train),\n",
    "        (X_test, y_test)\n",
    "    ),\n",
    "    (\n",
    "        \"XGBoost\",\n",
    "        xgb.XGBRegressor(), \n",
    "        best_xgb_params,\n",
    "        (X_train, y_train),\n",
    "        (X_test, y_test)\n",
    "    )\n",
    "]"
   ]
  },
  {
   "cell_type": "code",
   "execution_count": 0,
   "metadata": {
    "application/vnd.databricks.v1+cell": {
     "cellMetadata": {
      "byteLimit": 2048000,
      "rowLimit": 10000
     },
     "inputWidgets": {},
     "nuid": "4256e291-97a6-469a-84c9-fc34513ade72",
     "showTitle": false,
     "tableResultSettingsMap": {},
     "title": ""
    }
   },
   "outputs": [
    {
     "data": {
      "text/plain": [
       "[{'MAE': 1903.8726421767415,\n",
       "  'MSE': 20312050.959556196,\n",
       "  'RMSE': 4506.889277490207,\n",
       "  'MAPE': 0.2829703969722708},\n",
       " {'MAE': 1862.4054638538541,\n",
       "  'MSE': 20091202.14910878,\n",
       "  'RMSE': 4482.32106716027,\n",
       "  'MAPE': 0.28828569199045734},\n",
       " {'MAE': 3115.8827318181584,\n",
       "  'MSE': 23078811.537437636,\n",
       "  'RMSE': 4804.041167333772,\n",
       "  'MAPE': 0.35783865011865684},\n",
       " {'MAE': 2160.685936662527,\n",
       "  'MSE': 19559711.870723553,\n",
       "  'RMSE': 4422.636303238551,\n",
       "  'MAPE': 0.30031935002269594}]"
      ]
     },
     "execution_count": 44,
     "metadata": {},
     "output_type": "execute_result"
    }
   ],
   "source": [
    "reports = []\n",
    "\n",
    "for model_name, model, params, train_partition, test_partition in models:\n",
    "    X_train = train_partition[0]\n",
    "    y_train = train_partition[1]\n",
    "    X_test = test_partition[0]\n",
    "    y_test = test_partition[1]\n",
    "    \n",
    "    model.set_params(**params)\n",
    "    model.fit(X_train, y_train)\n",
    "    y_pred = model.predict(X_test)\n",
    "    report = evaluation_metrics(y_pred,y_test)\n",
    "    reports.append(report)\n",
    "\n",
    "reports"
   ]
  },
  {
   "cell_type": "code",
   "execution_count": 0,
   "metadata": {
    "application/vnd.databricks.v1+cell": {
     "cellMetadata": {
      "byteLimit": 2048000,
      "rowLimit": 10000
     },
     "inputWidgets": {},
     "nuid": "58d2dc30-03a4-4661-9836-9c5d77290881",
     "showTitle": false,
     "tableResultSettingsMap": {},
     "title": ""
    }
   },
   "outputs": [],
   "source": [
    "mlflow.set_experiment(experiment_id='your_experiment_id')\n",
    "\n",
    "for i, element in enumerate(models):\n",
    "  model_name=element[0]\n",
    "  model=element[1]\n",
    "  param=element[2]\n",
    "  metric=reports[i]\n",
    "  \n",
    "\n",
    "  with mlflow.start_run(run_name=model_name):\n",
    "\n",
    "    mlflow.log_param('model',model_name)\n",
    "    mlflow.log_metric('MAE', metric['MAE'])\n",
    "    mlflow.log_metric('MSE', metric['MSE'])\n",
    "    mlflow.log_metric('RMSE', metric['RMSE'])\n",
    "    mlflow.log_metric('MAPE', metric['MAPE'])\n",
    "\n",
    "    if 'XGB' in model_name:\n",
    "      mlflow.xgboost.log_model(model,'model')\n",
    "    else:\n",
    "      mlflow.sklearn.log_model(model,'model')"
   ]
  }
 ],
 "metadata": {
  "application/vnd.databricks.v1+notebook": {
   "dashboards": [],
   "environmentMetadata": null,
   "language": "python",
   "notebookMetadata": {
    "pythonIndentUnit": 2
   },
   "notebookName": "ML_flow project (1)",
   "widgets": {}
  },
  "language_info": {
   "name": "python"
  }
 },
 "nbformat": 4,
 "nbformat_minor": 0
}
